{
  "nbformat": 4,
  "nbformat_minor": 0,
  "metadata": {
    "colab": {
      "provenance": []
    },
    "kernelspec": {
      "name": "python3",
      "display_name": "Python 3"
    },
    "language_info": {
      "name": "python"
    }
  },
  "cells": [
    {
      "cell_type": "code",
      "execution_count": null,
      "metadata": {
        "colab": {
          "base_uri": "https://localhost:8080/"
        },
        "id": "KkdxMnXvIJPm",
        "outputId": "e2a57990-af5b-4292-ae48-37eda4ec5e69"
      },
      "outputs": [
        {
          "output_type": "stream",
          "name": "stdout",
          "text": [
            "True\n",
            "False\n",
            "False\n"
          ]
        }
      ],
      "source": [
        "# 💡 **Question 1**\n",
        "\n",
        "# Given an integer `n`, return *`true` if it is a power of three. Otherwise, return `false`*.\n",
        "\n",
        "# An integer `n` is a power of three, if there exists an integer `x` such that `n == 3x`.\n",
        "\n",
        "# **Example 1:**\n",
        "\n",
        "# ```\n",
        "# Input: n = 27\n",
        "# Output: true\n",
        "# Explanation: 27 = 33\n",
        "# ```\n",
        "\n",
        "# **Example 2:**\n",
        "\n",
        "# ```\n",
        "# Input: n = 0\n",
        "# Output: false\n",
        "# Explanation: There is no x where 3x = 0.\n",
        "\n",
        "# ```\n",
        "\n",
        "# **Example 3:**\n",
        "\n",
        "# ```\n",
        "# Input: n = -1\n",
        "# Output: false\n",
        "# Explanation: There is no x where 3x = (-1).\n",
        "# ```\n",
        "\n",
        "\n",
        "\n",
        "def isPowerOfThree(n):\n",
        "    if n <= 0:\n",
        "        return False\n",
        "\n",
        "    while n % 3 == 0:\n",
        "        n /= 3\n",
        "\n",
        "    return n == 1\n",
        "\n",
        "print(isPowerOfThree(27))\n",
        "print(isPowerOfThree(0))\n",
        "print(isPowerOfThree(-1))\n"
      ]
    },
    {
      "cell_type": "code",
      "source": [
        "\n",
        "# 💡 **Question 2**\n",
        "\n",
        "# You have a list `arr` of all integers in the range `[1, n]` sorted in a strictly increasing order. Apply the following algorithm on `arr`:\n",
        "\n",
        "# - Starting from left to right, remove the first number and every other number afterward until you reach the end of the list.\n",
        "# - Repeat the previous step again, but this time from right to left, remove the rightmost number and every other number from the remaining numbers.\n",
        "# - Keep repeating the steps again, alternating left to right and right to left, until a single number remains.\n",
        "\n",
        "# Given the integer `n`, return *the last number that remains in* `arr`.\n",
        "\n",
        "# **Example 1:**\n",
        "\n",
        "# ```\n",
        "# Input: n = 9\n",
        "# Output: 6\n",
        "# Explanation:\n",
        "# arr = [1, 2,3, 4,5, 6,7, 8,9]\n",
        "# arr = [2,4, 6,8]\n",
        "# arr = [2, 6]\n",
        "# arr = [6]\n",
        "\n",
        "# ```\n",
        "\n",
        "# **Example 2:**\n",
        "\n",
        "\n",
        "def lastRemaining(n):\n",
        "    remaining = n\n",
        "    head = 1\n",
        "    step = 1\n",
        "    left_to_right = True\n",
        "\n",
        "    while remaining > 1:\n",
        "        if left_to_right or remaining % 2 == 1:\n",
        "            head += step\n",
        "\n",
        "        remaining //= 2\n",
        "        step *= 2\n",
        "        left_to_right = not left_to_right\n",
        "\n",
        "    return head\n",
        "\n",
        "print(lastRemaining(9))\n",
        "\n",
        "\n"
      ],
      "metadata": {
        "colab": {
          "base_uri": "https://localhost:8080/"
        },
        "id": "-qHAsOO3Iq9a",
        "outputId": "17475081-725e-4149-e54e-3f9325b1563a"
      },
      "execution_count": null,
      "outputs": [
        {
          "output_type": "stream",
          "name": "stdout",
          "text": [
            "2\n"
          ]
        }
      ]
    },
    {
      "cell_type": "code",
      "source": [
        "# 💡 **Question 3**\n",
        "\n",
        "# ****Given a set represented as a string, write a recursive code to print all subsets of it. The subsets can be printed in any order.\n",
        "\n",
        "# **Example 1:**\n",
        "\n",
        "# Input :  set = “abc”\n",
        "\n",
        "# Output : { “”, “a”, “b”, “c”, “ab”, “ac”, “bc”, “abc”}\n",
        "\n",
        "# **Example 2:**\n",
        "\n",
        "# Input : set = “abcd”\n",
        "\n",
        "# Output : { “”, “a” ,”ab” ,”abc” ,”abcd”, “abd” ,”ac” ,”acd”, “ad” ,”b”, “bc” ,”bcd” ,”bd” ,”c” ,”cd” ,”d” }\n",
        "\n",
        "\n",
        "def generateSubsets(set, subset, index):\n",
        "    if index == len(set):\n",
        "        result.append(subset)\n",
        "    else:\n",
        "        generateSubsets(set, subset + set[index], index + 1)\n",
        "        generateSubsets(set, subset, index + 1)\n",
        "\n",
        "def subsets(set):\n",
        "    global result\n",
        "    result = []\n",
        "    generateSubsets(set, \"\", 0)\n",
        "    return result\n",
        "\n",
        "print(subsets(\"abc\"))\n",
        "print(subsets(\"abcd\"))\n"
      ],
      "metadata": {
        "id": "yzEJaUtELlUG",
        "colab": {
          "base_uri": "https://localhost:8080/"
        },
        "outputId": "51c5aab9-ac6f-40e5-bc7a-031ffe0a7590"
      },
      "execution_count": null,
      "outputs": [
        {
          "output_type": "stream",
          "name": "stdout",
          "text": [
            "['abc', 'ab', 'ac', 'a', 'bc', 'b', 'c', '']\n",
            "['abcd', 'abc', 'abd', 'ab', 'acd', 'ac', 'ad', 'a', 'bcd', 'bc', 'bd', 'b', 'cd', 'c', 'd', '']\n"
          ]
        }
      ]
    },
    {
      "cell_type": "code",
      "source": [
        "\n",
        "# 💡 **Question 4**\n",
        "\n",
        "# Given a string calculate length of the string using recursion.\n",
        "\n",
        "# **Examples:**\n",
        "\n",
        "# Input : str = \"abcd\"\n",
        "# Output :4\n",
        "\n",
        "# Input : str = \"GEEKSFORGEEKS\"\n",
        "# Output :13\n",
        "\n",
        "\n",
        "\n",
        "\n",
        "def calculateLength(string):\n",
        "    if string == \"\":\n",
        "        return 0\n",
        "    else:\n",
        "        return 1 + calculateLength(string[:-1])\n",
        "\n",
        "\n",
        "print(calculateLength(\"abcd\"))\n",
        "print(calculateLength(\"GEEKSFORGEEKS\"))\n"
      ],
      "metadata": {
        "id": "pB_bM33HhH6V",
        "colab": {
          "base_uri": "https://localhost:8080/"
        },
        "outputId": "40907b9a-9eda-48c6-e49b-c96cc578d0cd"
      },
      "execution_count": 1,
      "outputs": [
        {
          "output_type": "stream",
          "name": "stdout",
          "text": [
            "4\n",
            "13\n"
          ]
        }
      ]
    },
    {
      "cell_type": "code",
      "source": [
        "# 💡 **Question 5**\n",
        "\n",
        "# We are given a string S, we need to find count of all contiguous substrings starting and ending with same character.\n",
        "\n",
        "# **Examples :**\n",
        "\n",
        "# Input  : S = \"abcab\"\n",
        "# Output : 7\n",
        "# There are 15 substrings of \"abcab\"\n",
        "# a, ab, abc, abca, abcab, b, bc, bca\n",
        "# bcab, c, ca, cab, a, ab, b\n",
        "# Out of the above substrings, there\n",
        "# are 7 substrings : a, abca, b, bcab,\n",
        "# c, a and b.\n",
        "\n",
        "# Input  : S = \"aba\"\n",
        "# Output : 4\n",
        "# The substrings are a, b, a and aba\n",
        "\n",
        "\n",
        "def countSubstrings(s):\n",
        "    count = 0\n",
        "    for i in range(len(s)):\n",
        "        j = i\n",
        "        while j < len(s):\n",
        "            if s[j] == s[i]:\n",
        "                count += 1\n",
        "            j += 1\n",
        "    return count\n",
        "\n",
        "\n",
        "print(countSubstrings(\"abcab\"))\n",
        "print(countSubstrings(\"aba\"))\n"
      ],
      "metadata": {
        "colab": {
          "base_uri": "https://localhost:8080/"
        },
        "id": "JA4RPI9cg6rO",
        "outputId": "589569e4-3d5d-4ecd-bacb-8f50aad29b82"
      },
      "execution_count": 4,
      "outputs": [
        {
          "output_type": "stream",
          "name": "stdout",
          "text": [
            "7\n",
            "4\n"
          ]
        }
      ]
    },
    {
      "cell_type": "code",
      "source": [
        "\n",
        "# 💡 **Question 6**\n",
        "\n",
        "# The [tower of Hanoi](https://en.wikipedia.org/wiki/Tower_of_Hanoi) is a famous puzzle where we have three rods and **N** disks. The objective of the puzzle is to move the entire stack to another rod. You are given the number of discs **N**. Initially, these discs are in the rod 1. You need to print all the steps of discs movement so that all the discs reach the 3rd rod. Also, you need to find the total moves.**Note:** The discs are arranged such that the **top disc is numbered 1** and the **bottom-most disc is numbered N**. Also, all the discs have **different sizes** and a bigger disc **cannot** be put on the top of a smaller disc. Refer the provided link to get a better clarity about the puzzle.\n",
        "\n",
        "# **Example 1:**\n",
        "# Input:\n",
        "# N = 2\n",
        "# Output:\n",
        "# move disk 1 from rod 1 to rod 2\n",
        "# move disk 2 from rod 1 to rod 3\n",
        "# move disk 1 from rod 2 to rod 3\n",
        "# 3\n",
        "# Explanation:For N=2 , steps will be\n",
        "# as follows in the example and total\n",
        "# 3 steps will be taken.\n",
        "\n",
        "# Example 2:\n",
        "# Input:\n",
        "# N = 3\n",
        "# Output:\n",
        "# move disk 1 from rod 1 to rod 3\n",
        "# move disk 2 from rod 1 to rod 2\n",
        "# move disk 1 from rod 3 to rod 2\n",
        "# move disk 3 from rod 1 to rod 3\n",
        "# move disk 1 from rod 2 to rod 1\n",
        "# move disk 2 from rod 2 to rod 3\n",
        "# move disk 1 from rod 1 to rod 3\n",
        "# 7\n",
        "# Explanation:For N=3 , steps will be\n",
        "# as follows in the example and total\n",
        "# 7 steps will be taken.\n",
        "\n",
        "\n",
        "\n",
        "def towerOfHanoi(n, source, destination, auxiliary, moves):\n",
        "    if n == 1:\n",
        "        moves.append(f\"move disk 1 from rod {source} to rod {destination}\")\n",
        "        return 1\n",
        "    else:\n",
        "        count = 0\n",
        "        count += towerOfHanoi(n-1, source, auxiliary, destination, moves)\n",
        "        moves.append(f\"move disk {n} from rod {source} to rod {destination}\")\n",
        "        count += 1\n",
        "        count += towerOfHanoi(n-1, auxiliary, destination, source, moves)\n",
        "        return count\n",
        "\n",
        "\n",
        "def solveTowerOfHanoi(n):\n",
        "    moves = []\n",
        "    total_moves = towerOfHanoi(n, 1, 3, 2, moves)\n",
        "    for move in moves:\n",
        "        print(move)\n",
        "    return total_moves\n",
        "\n",
        "print(solveTowerOfHanoi(2))\n",
        "print(solveTowerOfHanoi(3))\n"
      ],
      "metadata": {
        "colab": {
          "base_uri": "https://localhost:8080/"
        },
        "id": "xiIE5Q4nhYJI",
        "outputId": "e0447b15-6a77-454f-cf6e-b59dc174b824"
      },
      "execution_count": 3,
      "outputs": [
        {
          "output_type": "stream",
          "name": "stdout",
          "text": [
            "move disk 1 from rod 1 to rod 2\n",
            "move disk 2 from rod 1 to rod 3\n",
            "move disk 1 from rod 2 to rod 3\n",
            "3\n",
            "move disk 1 from rod 1 to rod 3\n",
            "move disk 2 from rod 1 to rod 2\n",
            "move disk 1 from rod 3 to rod 2\n",
            "move disk 3 from rod 1 to rod 3\n",
            "move disk 1 from rod 2 to rod 1\n",
            "move disk 2 from rod 2 to rod 3\n",
            "move disk 1 from rod 1 to rod 3\n",
            "7\n"
          ]
        }
      ]
    },
    {
      "cell_type": "code",
      "source": [
        "# 💡 **Question 7**\n",
        "\n",
        "# Given a string **str**, the task is to print all the permutations of **str**. A **permutation** is an arrangement of all or part of a set of objects, with regard to the order of the arrangement. For instance, the words ‘bat’ and ‘tab’ represents two distinct permutation (or arrangements) of a similar three letter word.\n",
        "\n",
        "# **Examples:**\n",
        "\n",
        "# > Input: str = “cd”\n",
        "# >\n",
        "# >\n",
        "# > **Output:** cd dc\n",
        "# >\n",
        "# > **Input:** str = “abb”\n",
        "# >\n",
        "# > **Output:** abb abb bab bba bab bba\n",
        "# >\n",
        "\n",
        "\n",
        "def permutations(string):\n",
        "    if len(string) == 1:\n",
        "        return [string]\n",
        "\n",
        "    all_permutations = []\n",
        "    for i in range(len(string)):\n",
        "        current_char = string[i]\n",
        "        remaining_chars = string[:i] + string[i+1:]\n",
        "        remaining_permutations = permutations(remaining_chars)\n",
        "        for permutation in remaining_permutations:\n",
        "            all_permutations.append(current_char + permutation)\n",
        "\n",
        "    return all_permutations\n",
        "\n",
        "print(permutations(\"cd\"))\n",
        "print(permutations(\"abb\"))\n",
        "\n"
      ],
      "metadata": {
        "colab": {
          "base_uri": "https://localhost:8080/"
        },
        "id": "UGAiVX0Oh2Rh",
        "outputId": "2994c99c-b4c7-4296-a481-1be1da3cdce6"
      },
      "execution_count": 5,
      "outputs": [
        {
          "output_type": "stream",
          "name": "stdout",
          "text": [
            "['cd', 'dc']\n",
            "['abb', 'abb', 'bab', 'bba', 'bab', 'bba']\n"
          ]
        }
      ]
    },
    {
      "cell_type": "code",
      "source": [
        "# 💡 **Question 8**\n",
        "\n",
        "# Given a string, count total number of consonants in it. A consonant is an English alphabet character that is not vowel (a, e, i, o and u). Examples of constants are b, c, d, f, and g.\n",
        "\n",
        "# **Examples :**\n",
        "\n",
        "# Input : abc de\n",
        "# Output : 3\n",
        "# There are three consonants b, c and d.\n",
        "\n",
        "# Input : geeksforgeeks portal\n",
        "# Output : 12\n",
        "\n",
        "\n",
        "\n",
        "\n",
        "def countConsonants(string):\n",
        "    count = 0\n",
        "    vowels = ['a', 'e', 'i', 'o', 'u']\n",
        "    string = string.lower()\n",
        "\n",
        "    for char in string:\n",
        "        if char.isalpha() and char not in vowels:\n",
        "            count += 1\n",
        "\n",
        "    return count\n",
        "\n",
        "print(countConsonants(\"abc de\"))\n",
        "print(countConsonants(\"geeksforgeeks portal\"))\n"
      ],
      "metadata": {
        "colab": {
          "base_uri": "https://localhost:8080/"
        },
        "id": "IqTAfjgwjtGP",
        "outputId": "facde928-0384-4d9d-f8b7-6539bfadfb58"
      },
      "execution_count": 6,
      "outputs": [
        {
          "output_type": "stream",
          "name": "stdout",
          "text": [
            "3\n",
            "12\n"
          ]
        }
      ]
    }
  ]
}